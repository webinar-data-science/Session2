{
  "nbformat": 4,
  "nbformat_minor": 0,
  "metadata": {
    "colab": {
      "provenance": []
    },
    "kernelspec": {
      "name": "python3",
      "display_name": "Python 3"
    },
    "language_info": {
      "name": "python"
    }
  },
  "cells": [
    {
      "cell_type": "markdown",
      "source": [
        "# SUPERVISED LEARNING"
      ],
      "metadata": {
        "id": "KE-2qtuPSpTo"
      }
    },
    {
      "cell_type": "markdown",
      "source": [
        "1. Import libraries **numpy**, **pandas** and **statsmodels.api**."
      ],
      "metadata": {
        "id": "s24w4YrHIwCA"
      }
    },
    {
      "cell_type": "code",
      "source": [],
      "metadata": {
        "id": "tKXMq6wTHhx1"
      },
      "execution_count": null,
      "outputs": []
    },
    {
      "cell_type": "markdown",
      "source": [
        "2. import dataset *wine_quality.csv*"
      ],
      "metadata": {
        "id": "VlDSNg0GK2YL"
      }
    },
    {
      "cell_type": "code",
      "source": [],
      "metadata": {
        "id": "KXpxCk0nHiKB"
      },
      "execution_count": null,
      "outputs": []
    },
    {
      "cell_type": "markdown",
      "source": [
        "3. Check if there are missing values"
      ],
      "metadata": {
        "id": "bj54bLfjQNab"
      }
    },
    {
      "cell_type": "code",
      "source": [],
      "metadata": {
        "id": "n9zHos6YHipx"
      },
      "execution_count": null,
      "outputs": []
    },
    {
      "cell_type": "markdown",
      "source": [
        "4. Create a dummy variable for *type* and *quality* column."
      ],
      "metadata": {
        "id": "qRlqTEkaNwiC"
      }
    },
    {
      "cell_type": "code",
      "source": [],
      "metadata": {
        "id": "ulPtTV5YHjI_"
      },
      "execution_count": null,
      "outputs": []
    },
    {
      "cell_type": "code",
      "source": [],
      "metadata": {
        "id": "EazCUjxyHsnh"
      },
      "execution_count": null,
      "outputs": []
    },
    {
      "cell_type": "markdown",
      "source": [
        "5. Create a matrix of values for the X variables and a vector for the Y variable which is the one that must be predicted."
      ],
      "metadata": {
        "id": "TPresBg9QXu1"
      }
    },
    {
      "cell_type": "code",
      "source": [],
      "metadata": {
        "id": "4Z8PMDWzHtka"
      },
      "execution_count": null,
      "outputs": []
    },
    {
      "cell_type": "markdown",
      "source": [
        "6. Compute correlation matrix for the X variables in order to see if there are some strongly correlated columns."
      ],
      "metadata": {
        "id": "tkaV0WwxQ7rh"
      }
    },
    {
      "cell_type": "code",
      "source": [],
      "metadata": {
        "id": "uGzsMBr1HuFM"
      },
      "execution_count": null,
      "outputs": []
    },
    {
      "cell_type": "markdown",
      "source": [
        "7. Compute the *vif* in order to check if some variables are collinear. Use **variance_inflation_factor** from **statsmodels.stats.outliers_influence**."
      ],
      "metadata": {
        "id": "IOt1djFiRMlc"
      }
    },
    {
      "cell_type": "code",
      "source": [],
      "metadata": {
        "id": "6cxN0aS0HuqJ"
      },
      "execution_count": null,
      "outputs": []
    },
    {
      "cell_type": "markdown",
      "source": [
        "8. Build a scatterplot for the collinear variables, in order to check this property visually. Use the library you prefer."
      ],
      "metadata": {
        "id": "DfwGr5fOVA2y"
      }
    },
    {
      "cell_type": "code",
      "source": [],
      "metadata": {
        "id": "7NsMayuuHvGR"
      },
      "execution_count": null,
      "outputs": []
    },
    {
      "cell_type": "markdown",
      "source": [
        "9. Delete the collinear varaibles and compute again the *vif* in order to check if the remaining ones are not collinear."
      ],
      "metadata": {
        "id": "nC6GMTPJozZ4"
      }
    },
    {
      "cell_type": "code",
      "source": [],
      "metadata": {
        "id": "bl9ovbCOHvkL"
      },
      "execution_count": null,
      "outputs": []
    },
    {
      "cell_type": "markdown",
      "source": [
        "10. Divide the dataset in training and test set using **train_test_split** function from **sklearn.model_selection**. Decide the proportion for the two datasets."
      ],
      "metadata": {
        "id": "-5-se-zTTJHY"
      }
    },
    {
      "cell_type": "code",
      "source": [],
      "metadata": {
        "id": "7VSeiARKHwOU"
      },
      "execution_count": null,
      "outputs": []
    },
    {
      "cell_type": "markdown",
      "source": [
        "11. Build the logistic model using **Logit** from **statsmodels.api** and train it using the training set."
      ],
      "metadata": {
        "id": "o7goBlxVqZCQ"
      }
    },
    {
      "cell_type": "code",
      "source": [],
      "metadata": {
        "id": "9azLh1tGHwnC"
      },
      "execution_count": null,
      "outputs": []
    },
    {
      "cell_type": "markdown",
      "source": [
        "12. Make predictions and compute training and test error."
      ],
      "metadata": {
        "id": "7yLlNDwdbXCX"
      }
    },
    {
      "cell_type": "code",
      "source": [],
      "metadata": {
        "id": "gOCRLE6KHxHT"
      },
      "execution_count": null,
      "outputs": []
    },
    {
      "cell_type": "markdown",
      "source": [
        "13. Build the ROC curve using **roc_curve** and **auc** from **sklearn.metrics**.\n",
        "\n",
        "*   The **roc_curve** function computes the false positive, true positive rate and threshold.\n",
        "*   The **auc** function computes the area under the curve.\n",
        "\n"
      ],
      "metadata": {
        "id": "1IzOIZQkQZYw"
      }
    },
    {
      "cell_type": "code",
      "source": [],
      "metadata": {
        "id": "Rky7veuWHxsQ"
      },
      "execution_count": null,
      "outputs": []
    },
    {
      "cell_type": "markdown",
      "source": [
        "# UNSUPERVISED LEARNING"
      ],
      "metadata": {
        "id": "EihC4exRSkm0"
      }
    },
    {
      "cell_type": "markdown",
      "source": [
        "# K-MEANS"
      ],
      "metadata": {
        "id": "PMzorYAwwN8t"
      }
    },
    {
      "cell_type": "markdown",
      "source": [
        "14. Import the dataset *hyperplane.csv*."
      ],
      "metadata": {
        "id": "SZmSEPq193ky"
      }
    },
    {
      "cell_type": "code",
      "source": [],
      "metadata": {
        "id": "IJcPFOSxHyRd"
      },
      "execution_count": null,
      "outputs": []
    },
    {
      "cell_type": "markdown",
      "source": [
        "15. Check if there are some missing values."
      ],
      "metadata": {
        "id": "cXdrJcdMB_WF"
      }
    },
    {
      "cell_type": "code",
      "source": [],
      "metadata": {
        "id": "XdotPR1bHypZ"
      },
      "execution_count": null,
      "outputs": []
    },
    {
      "cell_type": "markdown",
      "source": [
        "16. Create the matrix of values"
      ],
      "metadata": {
        "id": "ICliWSJF-gjI"
      }
    },
    {
      "cell_type": "code",
      "source": [],
      "metadata": {
        "id": "f_nK8gqnHzBm"
      },
      "execution_count": null,
      "outputs": []
    },
    {
      "cell_type": "markdown",
      "source": [
        "17. Build the K-Means algorithm using **KMeans** from **sklearn.cluster**."
      ],
      "metadata": {
        "id": "ICVgEW4s-I2z"
      }
    },
    {
      "cell_type": "code",
      "source": [],
      "metadata": {
        "id": "r9fnE8dsHzfA"
      },
      "execution_count": null,
      "outputs": []
    },
    {
      "cell_type": "markdown",
      "source": [
        "18. Show the result of the clustering method and the number of observations for each cluster. Use the **.labels_** module."
      ],
      "metadata": {
        "id": "hdE946pL-u9R"
      }
    },
    {
      "cell_type": "code",
      "source": [],
      "metadata": {
        "id": "qbUkzB7AHz8Z"
      },
      "execution_count": null,
      "outputs": []
    },
    {
      "cell_type": "markdown",
      "source": [
        "19. Show the sum of all the distances using **.inertia_** module, then compute the average distance."
      ],
      "metadata": {
        "id": "Zep8LPyF_EI2"
      }
    },
    {
      "cell_type": "code",
      "source": [],
      "metadata": {
        "id": "oNq9aHDuH0Ws"
      },
      "execution_count": null,
      "outputs": []
    },
    {
      "cell_type": "markdown",
      "source": [
        "20. Use the elbow method in order to understand the best number of clusters."
      ],
      "metadata": {
        "id": "OXF4s4Tm_TE0"
      }
    },
    {
      "cell_type": "code",
      "source": [],
      "metadata": {
        "id": "yFO5Ul5pH0qM"
      },
      "execution_count": null,
      "outputs": []
    },
    {
      "cell_type": "markdown",
      "source": [
        "21. Plot the result of the clustering method, based on the optimal number of clusters. Use the library you prefer."
      ],
      "metadata": {
        "id": "VtQ86BXXA_RJ"
      }
    },
    {
      "cell_type": "code",
      "source": [],
      "metadata": {
        "id": "jUgISLPAH1Cp"
      },
      "execution_count": null,
      "outputs": []
    },
    {
      "cell_type": "markdown",
      "source": [
        "# HIERARCHICAL CLUSTERING"
      ],
      "metadata": {
        "id": "lMf-KT_ewSO1"
      }
    },
    {
      "cell_type": "markdown",
      "source": [
        "22. Plot the dendogram using **linkage** and **dendrogram** from **scipy.cluster.hierarchy**.\n",
        "\n"
      ],
      "metadata": {
        "id": "9ExuZEmuv17C"
      }
    },
    {
      "cell_type": "code",
      "source": [],
      "metadata": {
        "id": "SGUNYC2dH1jM"
      },
      "execution_count": null,
      "outputs": []
    },
    {
      "cell_type": "markdown",
      "source": [
        "23. Implement the hierarchcial clustering. Choose the number of clusters as you prefer, basing this choice on the dendogram previously built. "
      ],
      "metadata": {
        "id": "iyfuXHlTv2qM"
      }
    },
    {
      "cell_type": "code",
      "source": [],
      "metadata": {
        "id": "gyz_fBlsH10n"
      },
      "execution_count": null,
      "outputs": []
    },
    {
      "cell_type": "markdown",
      "source": [
        "24. Fit the algorithm to the dataset and show the results."
      ],
      "metadata": {
        "id": "PL0RwOEJKYxb"
      }
    },
    {
      "cell_type": "code",
      "source": [],
      "metadata": {
        "id": "t1mZM9tNH2KO"
      },
      "execution_count": null,
      "outputs": []
    },
    {
      "cell_type": "markdown",
      "source": [
        "25. Plot the result of the clustering method."
      ],
      "metadata": {
        "id": "2DWWQ7iGLjyC"
      }
    },
    {
      "cell_type": "code",
      "source": [],
      "metadata": {
        "id": "D0P1aPd7H2ew"
      },
      "execution_count": null,
      "outputs": []
    }
  ]
}