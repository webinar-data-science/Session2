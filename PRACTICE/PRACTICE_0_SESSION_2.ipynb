{
  "nbformat": 4,
  "nbformat_minor": 0,
  "metadata": {
    "colab": {
      "provenance": []
    },
    "kernelspec": {
      "name": "python3",
      "display_name": "Python 3"
    },
    "language_info": {
      "name": "python"
    }
  },
  "cells": [
    {
      "cell_type": "markdown",
      "source": [
        "# SUPERVISED LEARNING"
      ],
      "metadata": {
        "id": "KE-2qtuPSpTo"
      }
    },
    {
      "cell_type": "markdown",
      "source": [
        "1. Import libraries **numpy**, **pandas** and **statsmodels.api**."
      ],
      "metadata": {
        "id": "s24w4YrHIwCA"
      }
    },
    {
      "cell_type": "code",
      "source": [
        "import numpy as np         #\n",
        "import pandas as pd\n",
        "import statsmodels.api as sm"
      ],
      "metadata": {
        "id": "sDhAq2zMS4o0"
      },
      "execution_count": 1,
      "outputs": []
    },
    {
      "cell_type": "markdown",
      "source": [
        "2. import dataset *wine_quality.csv*"
      ],
      "metadata": {
        "id": "VlDSNg0GK2YL"
      }
    },
    {
      "cell_type": "code",
      "source": [
        "wine=pd.read_csv(\"https://raw.githubusercontent.com/webinar-data-science/Session2/main/PRACTICE/CSV/wine_quality.csv\")       #\n",
        "wine.head(15)"
      ],
      "metadata": {
        "id": "V6tTs4o3JdVk"
      },
      "execution_count": null,
      "outputs": []
    },
    {
      "cell_type": "code",
      "source": [
        "wine.info()              #"
      ],
      "metadata": {
        "id": "EQgfG6pgo0v2"
      },
      "execution_count": null,
      "outputs": []
    },
    {
      "cell_type": "markdown",
      "source": [
        "3. Check if there are missing values"
      ],
      "metadata": {
        "id": "bj54bLfjQNab"
      }
    },
    {
      "cell_type": "code",
      "source": [
        "wine.isna().sum()          #"
      ],
      "metadata": {
        "id": "O8bb3w0WQNzb"
      },
      "execution_count": null,
      "outputs": []
    },
    {
      "cell_type": "markdown",
      "source": [
        "4. Create a dummy variable for *type* and *quality* column."
      ],
      "metadata": {
        "id": "qRlqTEkaNwiC"
      }
    },
    {
      "cell_type": "code",
      "source": [
        "wine.loc[wine[\"quality\"] == \"good\", \"quality\"]=1        #\n",
        "wine.loc[wine[\"quality\"] != 1, \"quality\"]=0\n",
        "wine[\"quality\"]=wine[\"quality\"].astype(int)"
      ],
      "metadata": {
        "id": "3tzrPH_W990t"
      },
      "execution_count": 5,
      "outputs": []
    },
    {
      "cell_type": "code",
      "source": [
        "wine.loc[wine[\"type\"]==\"white\", \"type\"]=1            #\n",
        "wine.loc[wine[\"type\"]==\"red\", \"type\"]=0\n",
        "wine[\"type\"]=wine[\"type\"].astype(int)\n",
        "wine.head(15)"
      ],
      "metadata": {
        "id": "KggWyxqpJdBP"
      },
      "execution_count": null,
      "outputs": []
    },
    {
      "cell_type": "markdown",
      "source": [
        "5. Create a matrix of values for the X variables and a vector for the Y variable which is the one that must be predicted."
      ],
      "metadata": {
        "id": "TPresBg9QXu1"
      }
    },
    {
      "cell_type": "code",
      "source": [],
      "metadata": {
        "id": "sLWEeAT46rZs"
      },
      "execution_count": 7,
      "outputs": []
    },
    {
      "cell_type": "markdown",
      "source": [
        "6. Compute correlation matrix for the X variables in order to see if there are some strongly correlated columns."
      ],
      "metadata": {
        "id": "tkaV0WwxQ7rh"
      }
    },
    {
      "cell_type": "code",
      "source": [
        "import seaborn as sns\n",
        "import matplotlib.pyplot as plt"
      ],
      "metadata": {
        "id": "jbmNjILQ60rO"
      },
      "execution_count": null,
      "outputs": []
    },
    {
      "cell_type": "markdown",
      "source": [
        "7. Compute the *vif* in order to check if some variables are collinear. Use **variance_inflation_factor** from **statsmodels.stats.outliers_influence**."
      ],
      "metadata": {
        "id": "IOt1djFiRMlc"
      }
    },
    {
      "cell_type": "code",
      "source": [
        "from statsmodels.stats.outliers_influence import variance_inflation_factor \n"
      ],
      "metadata": {
        "id": "snGtMbBp7TSR"
      },
      "execution_count": null,
      "outputs": []
    },
    {
      "cell_type": "markdown",
      "source": [
        "8. Delete the collinear varaibles and compute again the *vif* in order to check if the remaining ones are not collinear."
      ],
      "metadata": {
        "id": "nC6GMTPJozZ4"
      }
    },
    {
      "cell_type": "code",
      "source": [
        "#'type','volatile acidity', 'citric acid','residual sugar', 'chlorides', 'free sulfur dioxide'"
      ],
      "metadata": {
        "id": "1ZCuQ17F7anr"
      },
      "execution_count": null,
      "outputs": []
    },
    {
      "cell_type": "markdown",
      "source": [
        "9. Divide the dataset in training and test set using **train_test_split** function from **sklearn.model_selection**. Decide the proportion for the two datasets."
      ],
      "metadata": {
        "id": "-5-se-zTTJHY"
      }
    },
    {
      "cell_type": "code",
      "source": [
        "from sklearn.model_selection import  train_test_split            #\n",
        "Xtrain, Xtest, Ytrain, Ytest = train_test_split(X, Y, test_size=0.33, random_state=1, stratify=Y)\n",
        "np.shape(Y), np.shape(Ytrain), np.shape(Ytest)"
      ],
      "metadata": {
        "id": "iZaDlrbG97b9",
        "colab": {
          "base_uri": "https://localhost:8080/"
        },
        "outputId": "8885adb1-0133-4e01-e9a0-4c383f9ee9b5"
      },
      "execution_count": 12,
      "outputs": [
        {
          "output_type": "execute_result",
          "data": {
            "text/plain": [
              "((6463,), (4330,), (2133,))"
            ]
          },
          "metadata": {},
          "execution_count": 12
        }
      ]
    },
    {
      "cell_type": "markdown",
      "source": [
        "10. Build the logistic model using **Logit** from **statsmodels.api** and train it using the training set."
      ],
      "metadata": {
        "id": "o7goBlxVqZCQ"
      }
    },
    {
      "cell_type": "code",
      "source": [
        "from statsmodels.api import Logit\n"
      ],
      "metadata": {
        "id": "rr0s_klcYHKg"
      },
      "execution_count": null,
      "outputs": []
    },
    {
      "cell_type": "markdown",
      "source": [
        "11. Make predictions and compute training and test error."
      ],
      "metadata": {
        "id": "7yLlNDwdbXCX"
      }
    },
    {
      "cell_type": "code",
      "source": [
        "from sklearn.metrics import accuracy_score"
      ],
      "metadata": {
        "id": "Id9dwInebaBB"
      },
      "execution_count": null,
      "outputs": []
    },
    {
      "cell_type": "markdown",
      "source": [
        "12. Build the ROC curve using **roc_curve** and **auc** from **sklearn.metrics**.\n",
        "\n",
        "*   The **roc_curve** function computes the false positive, true positive rate and threshold.\n",
        "*   The **auc** function computes the area under the curve.\n",
        "\n"
      ],
      "metadata": {
        "id": "1IzOIZQkQZYw"
      }
    },
    {
      "cell_type": "code",
      "source": [
        "from sklearn.metrics import roc_curve     #\n",
        "import matplotlib.pyplot as plt\n",
        "from sklearn.metrics import auc\n",
        "false_positive_rate, true_positive_rate, threshold= roc_curve(Ytest, predictions_test)\n",
        "roc_auc = auc(false_positive_rate, true_positive_rate)\n",
        "\n",
        "\n",
        "plt.figure(figsize=(12,7))\n",
        "plt.title('Roc curve')\n",
        "plt.plot(false_positive_rate, true_positive_rate, c='b', label = 'AUC = %0.2f'  % roc_auc)\n",
        "plt.legend(loc = 'lower right')\n",
        "plt.plot([0, 1], [0, 1],'r--')\n",
        "plt.xlim([0, 1])\n",
        "plt.ylim([0, 1])\n",
        "plt.ylabel('True Positive Rate')\n",
        "plt.xlabel('False Positive Rate')\n"
      ],
      "metadata": {
        "id": "vwMZv8_CQZBE"
      },
      "execution_count": null,
      "outputs": []
    },
    {
      "cell_type": "markdown",
      "source": [
        "# UNSUPERVISED LEARNING"
      ],
      "metadata": {
        "id": "EihC4exRSkm0"
      }
    },
    {
      "cell_type": "markdown",
      "source": [
        "# K-MEANS"
      ],
      "metadata": {
        "id": "PMzorYAwwN8t"
      }
    },
    {
      "cell_type": "markdown",
      "source": [
        "13. Import the dataset *hyperplane.csv*."
      ],
      "metadata": {
        "id": "SZmSEPq193ky"
      }
    },
    {
      "cell_type": "code",
      "execution_count": null,
      "metadata": {
        "id": "M7ap3loW9oQk"
      },
      "outputs": [],
      "source": [
        "coordinate=pd.read_csv(\"https://raw.githubusercontent.com/webinar-data-science/Session2/main/PRACTICE/CSV/hyperplane.csv\") #\n",
        "coordinate.head()"
      ]
    },
    {
      "cell_type": "code",
      "source": [
        "coordinate.shape #"
      ],
      "metadata": {
        "id": "zprXAZ3X-F6-"
      },
      "execution_count": null,
      "outputs": []
    },
    {
      "cell_type": "markdown",
      "source": [
        "14. Check if there are some missing values."
      ],
      "metadata": {
        "id": "cXdrJcdMB_WF"
      }
    },
    {
      "cell_type": "code",
      "source": [
        "coordinate.isna().sum()  #"
      ],
      "metadata": {
        "id": "2Z0ZOKMqB_yM"
      },
      "execution_count": null,
      "outputs": []
    },
    {
      "cell_type": "markdown",
      "source": [
        "15. Create the matrix of values"
      ],
      "metadata": {
        "id": "ICliWSJF-gjI"
      }
    },
    {
      "cell_type": "code",
      "source": [
        "X=coordinate.iloc[:,0:2].values   #"
      ],
      "metadata": {
        "id": "4vtKSMLI-g8W"
      },
      "execution_count": 18,
      "outputs": []
    },
    {
      "cell_type": "markdown",
      "source": [
        "16. Use the elbow method in order to understand the best number of clusters."
      ],
      "metadata": {
        "id": "OXF4s4Tm_TE0"
      }
    },
    {
      "cell_type": "code",
      "source": [
        "from sklearn.cluster import KMeans"
      ],
      "metadata": {
        "id": "XTQ9uxUd_TjA"
      },
      "execution_count": null,
      "outputs": []
    },
    {
      "cell_type": "markdown",
      "source": [
        "17. Plot the result of the clustering method, based on the optimal number of clusters. Use the library you prefer."
      ],
      "metadata": {
        "id": "VtQ86BXXA_RJ"
      }
    },
    {
      "cell_type": "code",
      "source": [],
      "metadata": {
        "id": "XMJEWEj3BMxG"
      },
      "execution_count": null,
      "outputs": []
    }
  ]
}