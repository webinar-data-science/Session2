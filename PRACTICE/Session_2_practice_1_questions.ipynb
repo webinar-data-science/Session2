{
  "nbformat": 4,
  "nbformat_minor": 0,
  "metadata": {
    "colab": {
      "provenance": []
    },
    "kernelspec": {
      "name": "python3",
      "display_name": "Python 3"
    },
    "language_info": {
      "name": "python"
    }
  },
  "cells": [
    {
      "cell_type": "markdown",
      "source": [
        "# Practice 1"
      ],
      "metadata": {
        "id": "vrxF6TzDIr5J"
      }
    },
    {
      "cell_type": "markdown",
      "source": [
        "# Supervised learning\n",
        "In this section you will see how to perform a supervised learning analysis with two models: linear regression and logistic regression. For the latter you will also see how to analyse the relationship between true and false positive classifications."
      ],
      "metadata": {
        "id": "SOUL4M6fKmCB"
      }
    },
    {
      "cell_type": "markdown",
      "source": [
        "1. Import libraries **numpy**, **pandas** and **statsmodels.api**."
      ],
      "metadata": {
        "id": "s24w4YrHIwCA"
      }
    },
    {
      "cell_type": "code",
      "execution_count": null,
      "metadata": {
        "id": "dUTejk41HpbY"
      },
      "outputs": [],
      "source": [
        "import numpy as np\n",
        "import pandas as pd\n",
        "import statsmodels.api as sm"
      ]
    },
    {
      "cell_type": "markdown",
      "source": [
        "# Linear Regression"
      ],
      "metadata": {
        "id": "VEECyFYSMc1Y"
      }
    },
    {
      "cell_type": "markdown",
      "source": [
        "2. Import dataset *Marketing_Data.csv*."
      ],
      "metadata": {
        "id": "JCeVKREpJCtY"
      }
    },
    {
      "cell_type": "code",
      "source": [],
      "metadata": {
        "id": "pn_9fuHzvDXX"
      },
      "execution_count": null,
      "outputs": []
    },
    {
      "cell_type": "markdown",
      "source": [
        "3. Check if there are some missing values."
      ],
      "metadata": {
        "id": "XHY9h7uVKbh-"
      }
    },
    {
      "cell_type": "code",
      "source": [],
      "metadata": {
        "id": "JuHSoXPqvD9b"
      },
      "execution_count": null,
      "outputs": []
    },
    {
      "cell_type": "markdown",
      "source": [
        "4. Compute correlation matrix in order to discover if there could be a collinearity problem."
      ],
      "metadata": {
        "id": "2veXPGVARqVZ"
      }
    },
    {
      "cell_type": "code",
      "source": [],
      "metadata": {
        "id": "D41sIcB5vEVS"
      },
      "execution_count": null,
      "outputs": []
    },
    {
      "cell_type": "markdown",
      "source": [
        "5. Compute the *variance inflation factor (vif)* for all the variables in order to check if there is some collinearity, using the library **statsmodels**. Create the matrix of X and Y values and remember to include a constant inside the model also when you evaluate the *vif*. In order to add the constant, use **add_constant** from **statsmodels**."
      ],
      "metadata": {
        "id": "MhBPpyqlSpab"
      }
    },
    {
      "cell_type": "code",
      "source": [],
      "metadata": {
        "id": "jHcbrK1HvExe"
      },
      "execution_count": null,
      "outputs": []
    },
    {
      "cell_type": "markdown",
      "source": [
        "6. Divide the dataset in training and test set using **train_test_split** function and decide the proportion for the two datasets."
      ],
      "metadata": {
        "id": "DF7VQWHHbaIl"
      }
    },
    {
      "cell_type": "code",
      "source": [],
      "metadata": {
        "id": "6GmwcKPmvFZS"
      },
      "execution_count": null,
      "outputs": []
    },
    {
      "cell_type": "markdown",
      "source": [
        "7. Train the linear regression model using **OLS** from **statsmodels.api** and print the summary."
      ],
      "metadata": {
        "id": "l20VTCZca63T"
      }
    },
    {
      "cell_type": "code",
      "source": [],
      "metadata": {
        "id": "GYa_KS5XvFxC"
      },
      "execution_count": null,
      "outputs": []
    },
    {
      "cell_type": "markdown",
      "source": [
        "8. Make the predictions for the test set, using the trained model, and compute the residuals."
      ],
      "metadata": {
        "id": "VIfMJD7GjowE"
      }
    },
    {
      "cell_type": "code",
      "source": [],
      "metadata": {
        "id": "9yicrLKpvGKx"
      },
      "execution_count": null,
      "outputs": []
    },
    {
      "cell_type": "markdown",
      "source": [
        "9. Plot the distribution of residuals in order to understand if they follow a normal distribution. Use the library you prefer."
      ],
      "metadata": {
        "id": "zSRNFGnUjnhv"
      }
    },
    {
      "cell_type": "code",
      "source": [],
      "metadata": {
        "id": "M9UUUDbbvGiD"
      },
      "execution_count": null,
      "outputs": []
    },
    {
      "cell_type": "markdown",
      "source": [
        "10. Plot the true labels against the residuals in order to understand if the variance of the residuals is constant or not. Use the library you prefer."
      ],
      "metadata": {
        "id": "1UEBPIjyk_sl"
      }
    },
    {
      "cell_type": "code",
      "source": [],
      "metadata": {
        "id": "euKL33nXvG87"
      },
      "execution_count": null,
      "outputs": []
    },
    {
      "cell_type": "markdown",
      "source": [
        "# Logistic Regression"
      ],
      "metadata": {
        "id": "bLhliu3XwwM4"
      }
    },
    {
      "cell_type": "markdown",
      "source": [
        "11. Import the dataset *heart_disease*."
      ],
      "metadata": {
        "id": "6CZr0Hp9xyNw"
      }
    },
    {
      "cell_type": "code",
      "source": [],
      "metadata": {
        "id": "FrY7ddHgvHeX"
      },
      "execution_count": null,
      "outputs": []
    },
    {
      "cell_type": "markdown",
      "source": [
        "Quick description of variables inside the dataset:\n",
        "\n",
        "*   **age**\n",
        "*   **sex**\n",
        "*   **cp**: chest pain type (4 values)\n",
        "*   **trtbps**: resting blood pressure\n",
        "*   **chol**: serum cholestoral in mg/dl\n",
        "*   **fbs**: fasting blood sugar > 120 mg/dl\n",
        "*   **restecg**: resting electrocardiographic results (values 0,1,2)\n",
        "*   **thalachh**: maximum heart rate achieved\n",
        "*   **exng**: exercise induced angina\n",
        "*   **oldpeak**: ST depression induced by exercise relative to rest\n",
        "*   **slp**: the slope of the peak exercise ST segment\n",
        "*   **caa**: number of major vessels (0-3) colored by flourosopy\n",
        "*   **thal**: 0 = normal; 1 = fixed defect; 2 = reversable defect\n",
        "\n"
      ],
      "metadata": {
        "id": "k2QHCsP09qcj"
      }
    },
    {
      "cell_type": "markdown",
      "source": [
        "12. Check if there are some missing values."
      ],
      "metadata": {
        "id": "_vnyQyKtpQFd"
      }
    },
    {
      "cell_type": "code",
      "source": [],
      "metadata": {
        "id": "okZzdlnIvJWk"
      },
      "execution_count": null,
      "outputs": []
    },
    {
      "cell_type": "markdown",
      "source": [
        "13. Create a dummy variable for the *sex* variable."
      ],
      "metadata": {
        "id": "lfxguOdfyXAb"
      }
    },
    {
      "cell_type": "code",
      "source": [],
      "metadata": {
        "id": "LXIiZbhevJs5"
      },
      "execution_count": null,
      "outputs": []
    },
    {
      "cell_type": "markdown",
      "source": [
        "14. Compute the correlation matrix in order to see if some variables are strongly correlated. Hint: in order to visualize it, use **heatmap** from seaborn."
      ],
      "metadata": {
        "id": "4pN9j7PRzGKH"
      }
    },
    {
      "cell_type": "code",
      "source": [],
      "metadata": {
        "id": "7dAOZalUvKLM"
      },
      "execution_count": null,
      "outputs": []
    },
    {
      "cell_type": "markdown",
      "source": [
        "15. Create the matrix X and check which variables are collinear."
      ],
      "metadata": {
        "id": "r1tYa0DEmebg"
      }
    },
    {
      "cell_type": "code",
      "source": [],
      "metadata": {
        "id": "HijOSORjvKjr"
      },
      "execution_count": null,
      "outputs": []
    },
    {
      "cell_type": "markdown",
      "source": [
        "16. Create again the variable X excluding the ones which are collinear, then compute again the *vif* in order to verify if it is correct."
      ],
      "metadata": {
        "id": "PTfejuaApEDK"
      }
    },
    {
      "cell_type": "code",
      "source": [],
      "metadata": {
        "id": "5WU0lyvRvLNB"
      },
      "execution_count": null,
      "outputs": []
    },
    {
      "cell_type": "markdown",
      "source": [
        "17. Create training and test set, choose the proportion you prefer."
      ],
      "metadata": {
        "id": "kmu_fyprX08W"
      }
    },
    {
      "cell_type": "code",
      "source": [],
      "metadata": {
        "id": "8ZRpaY7ovLl9"
      },
      "execution_count": null,
      "outputs": []
    },
    {
      "cell_type": "markdown",
      "source": [
        "18. Build the logistic regression model using **Logit** from **statsmodels.api** and print the summary."
      ],
      "metadata": {
        "id": "4FZgtaT4XteO"
      }
    },
    {
      "cell_type": "code",
      "source": [],
      "metadata": {
        "id": "MNdKyMM5vL7s"
      },
      "execution_count": null,
      "outputs": []
    },
    {
      "cell_type": "markdown",
      "source": [
        "19. Make predictions on the test and training set and compute the errors. In order to obtain the predicted class, round the result using **round** from **numpy** and after this passage use **accuracy_score** from **sklearn.metrics** to compute the errors. Training error should be 0.15 whereas the test error should be equal to 0.23"
      ],
      "metadata": {
        "id": "gM2elUo1Zgf_"
      }
    },
    {
      "cell_type": "code",
      "source": [],
      "metadata": {
        "id": "2IFzOFU1vMdF"
      },
      "execution_count": null,
      "outputs": []
    },
    {
      "cell_type": "markdown",
      "source": [
        "20. Build the confusion matrix in order to show the true positive, the false positive, flase negative and the true negative. Hint: use **confusion_matrix** function from **sklearn.metrics**. Hint: you can plot the confusion matrix using **heatmap** from **seaborn** in order to get a better aesthetics."
      ],
      "metadata": {
        "id": "b9Gf52Jh0Hnz"
      }
    },
    {
      "cell_type": "code",
      "source": [],
      "metadata": {
        "id": "69plsv1FvM2l"
      },
      "execution_count": null,
      "outputs": []
    },
    {
      "cell_type": "markdown",
      "source": [
        "21. Build the roc curve using **roc_curve** function. Optional: Build a data frame with columns False positive rate, True positive rate and Threshold. In this way you can see how the situation change if you use another threshold different from 0.5."
      ],
      "metadata": {
        "id": "y8Uz73QY0t9A"
      }
    },
    {
      "cell_type": "code",
      "source": [],
      "metadata": {
        "id": "2ypPMdEQvNQ4"
      },
      "execution_count": null,
      "outputs": []
    },
    {
      "cell_type": "markdown",
      "source": [
        "**Optional**: create a data frame with a column for the true positive rate, false positive rate and the threshold."
      ],
      "metadata": {
        "id": "2ew7n-YYe6i0"
      }
    },
    {
      "cell_type": "code",
      "source": [],
      "metadata": {
        "id": "iByeYZZBvt5m"
      },
      "execution_count": null,
      "outputs": []
    }
  ]
}