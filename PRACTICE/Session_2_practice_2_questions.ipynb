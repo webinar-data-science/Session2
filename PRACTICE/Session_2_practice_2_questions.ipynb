{
  "nbformat": 4,
  "nbformat_minor": 0,
  "metadata": {
    "colab": {
      "provenance": []
    },
    "kernelspec": {
      "name": "python3",
      "display_name": "Python 3"
    },
    "language_info": {
      "name": "python"
    }
  },
  "cells": [
    {
      "cell_type": "markdown",
      "source": [
        "# Practice 2"
      ],
      "metadata": {
        "id": "EbM_VdL-m_IZ"
      }
    },
    {
      "cell_type": "markdown",
      "source": [
        "# Supervised learning\n",
        "In this section you will see how to implement, in a very easy manner, a supervised learning analysis. In this case it will be shown how to build a decision tree classifier and how to use random forest. In addition you will see how to perform a cross validation in order to determine the best hyperparameters."
      ],
      "metadata": {
        "id": "a4k0sMZILgd7"
      }
    },
    {
      "cell_type": "markdown",
      "source": [
        "\n",
        "\n",
        "1.   Import libraries.\n",
        "\n"
      ],
      "metadata": {
        "id": "WqcsHmdPQq3b"
      }
    },
    {
      "cell_type": "code",
      "execution_count": null,
      "metadata": {
        "id": "2DEeY4zjP80m"
      },
      "outputs": [],
      "source": [
        "import numpy as np\n",
        "import pandas as pd\n",
        "from sklearn.tree import DecisionTreeClassifier\n",
        "from sklearn.ensemble import RandomForestClassifier\n",
        "from sklearn.model_selection import  train_test_split\n",
        "from sklearn.metrics import confusion_matrix\n",
        "from sklearn import tree\n",
        "import matplotlib.pyplot as plt"
      ]
    },
    {
      "cell_type": "markdown",
      "source": [
        "\n",
        "\n",
        "2.   Import dataset \"Diabetes\".\n",
        "\n"
      ],
      "metadata": {
        "id": "fWELWOEgQpcs"
      }
    },
    {
      "cell_type": "code",
      "source": [],
      "metadata": {
        "id": "FFeIeb8OwL2I"
      },
      "execution_count": null,
      "outputs": []
    },
    {
      "cell_type": "markdown",
      "source": [
        "\n",
        "\n",
        "3.   Retrieve the shape of the \"Diabetes\" dataset.\n"
      ],
      "metadata": {
        "id": "vt5nwbGRXfR1"
      }
    },
    {
      "cell_type": "code",
      "source": [],
      "metadata": {
        "id": "XzyLeQQowMLY"
      },
      "execution_count": null,
      "outputs": []
    },
    {
      "cell_type": "markdown",
      "source": [
        "\n",
        "\n",
        "4.   Show the first five rows of the dataset.\n",
        "\n"
      ],
      "metadata": {
        "id": "UokFF4yjQ68f"
      }
    },
    {
      "cell_type": "code",
      "source": [],
      "metadata": {
        "id": "z5U17NlgwMmQ"
      },
      "execution_count": null,
      "outputs": []
    },
    {
      "cell_type": "markdown",
      "source": [
        "\n",
        "\n",
        "5.   Check if there are some missing values.\n",
        "\n"
      ],
      "metadata": {
        "id": "1akCiGMOQrzr"
      }
    },
    {
      "cell_type": "code",
      "source": [],
      "metadata": {
        "id": "Uq6cgkllwM_e"
      },
      "execution_count": null,
      "outputs": []
    },
    {
      "cell_type": "markdown",
      "source": [
        "\n",
        "\n",
        "6.   Create a matrix for the values and a vector for the target variable *outcome*.\n",
        "\n"
      ],
      "metadata": {
        "id": "0yH7UtwqRdRS"
      }
    },
    {
      "cell_type": "code",
      "source": [],
      "metadata": {
        "id": "B9Ct0uu3wNcE"
      },
      "execution_count": null,
      "outputs": []
    },
    {
      "cell_type": "markdown",
      "source": [
        "\n",
        "\n",
        "7.   Create training and test set for the matrix of values and for the vector of targets. Use the function **train_test_split** from **sklearn.model_selection**.\n",
        "\n"
      ],
      "metadata": {
        "id": "vCafq7JiRedl"
      }
    },
    {
      "cell_type": "code",
      "source": [],
      "metadata": {
        "id": "tA1jUaPzwN9d"
      },
      "execution_count": null,
      "outputs": []
    },
    {
      "cell_type": "markdown",
      "source": [
        "# Decision Tree"
      ],
      "metadata": {
        "id": "vivXYnavLrn5"
      }
    },
    {
      "cell_type": "markdown",
      "source": [
        "8. Build a Decision Tree using the function **DecisionTreeClassifier** from **sklearn.tree** and train it with the training set. Choose the maximum depth (hint: the deeper the tree the worse will be the performance on the test set)."
      ],
      "metadata": {
        "id": "ho0rgfjzU2yU"
      }
    },
    {
      "cell_type": "code",
      "source": [],
      "metadata": {
        "id": "Qnp-h39HwOxE"
      },
      "execution_count": null,
      "outputs": []
    },
    {
      "cell_type": "markdown",
      "source": [
        "\n",
        "\n",
        "9.   Make predictions for the training and test set.\n",
        "\n"
      ],
      "metadata": {
        "id": "gp6OE5vzU3hb"
      }
    },
    {
      "cell_type": "code",
      "source": [],
      "metadata": {
        "id": "NWU8YMFVwPOA"
      },
      "execution_count": null,
      "outputs": []
    },
    {
      "cell_type": "markdown",
      "source": [
        "\n",
        "\n",
        "10.   Compute the error for both the predictions computed before. Hint: help yourself using **not_equal** function from **numpy**. Usare accuracy\n",
        "\n"
      ],
      "metadata": {
        "id": "_WKdg6MbU4hf"
      }
    },
    {
      "cell_type": "code",
      "source": [],
      "metadata": {
        "id": "-isJmYRCwPpk"
      },
      "execution_count": null,
      "outputs": []
    },
    {
      "cell_type": "markdown",
      "source": [
        "11. Build the confusion matrix in order to check better the results."
      ],
      "metadata": {
        "id": "gZrEr5I5axxP"
      }
    },
    {
      "cell_type": "code",
      "source": [],
      "metadata": {
        "id": "fPW00M1zwP_4"
      },
      "execution_count": null,
      "outputs": []
    },
    {
      "cell_type": "markdown",
      "source": [
        "# Random forest\n"
      ],
      "metadata": {
        "id": "vUOK3t9e3XgE"
      }
    },
    {
      "cell_type": "markdown",
      "source": [
        "12. Build the random forest classifier and train it with the training set, using the function **RandomForestClassifier** from **sklearn.ensemble**. Choice the number of trees and the depth of them as you want, but rememebr that the more are the trees the worse will be the perfromance. The same thing is true for the depth of the tree used."
      ],
      "metadata": {
        "id": "bqs-6PVL308K"
      }
    },
    {
      "cell_type": "code",
      "source": [],
      "metadata": {
        "id": "Qm5Rw4BdwQzq"
      },
      "execution_count": null,
      "outputs": []
    },
    {
      "cell_type": "markdown",
      "source": [
        "13. Make predictions for the test set and compute the trainig and test error."
      ],
      "metadata": {
        "id": "-G0ks9cL59CR"
      }
    },
    {
      "cell_type": "code",
      "source": [],
      "metadata": {
        "id": "3Bm5g57HwRL6"
      },
      "execution_count": null,
      "outputs": []
    },
    {
      "cell_type": "markdown",
      "source": [
        "# Cross validation"
      ],
      "metadata": {
        "id": "0O9Dhfjf7bfj"
      }
    },
    {
      "cell_type": "markdown",
      "source": [
        "14. Use 10 folds cross validation in order to understand which is the best combination of hyerparameters.\n",
        "\n",
        "\n",
        "*   Create a dictionary with the hyperparameters and their values you want to check.\n",
        "*   Use the function **GridSearchCV** from **sklearn.model_selection**.\n",
        "\n"
      ],
      "metadata": {
        "id": "qjX_rjU27gej"
      }
    },
    {
      "cell_type": "markdown",
      "source": [
        "* Create a dictionary with the hyperparameters and their values you want to check."
      ],
      "metadata": {
        "id": "hm1svcgu-lZr"
      }
    },
    {
      "cell_type": "code",
      "source": [],
      "metadata": {
        "id": "w5BQoOLAwYMB"
      },
      "execution_count": null,
      "outputs": []
    },
    {
      "cell_type": "markdown",
      "source": [
        "* Use the function **GridSearchCV** from **sklearn.model_selection**."
      ],
      "metadata": {
        "id": "j1yfRj9L--nE"
      }
    },
    {
      "cell_type": "code",
      "source": [],
      "metadata": {
        "id": "7SC5s4uEwYqZ"
      },
      "execution_count": null,
      "outputs": []
    },
    {
      "cell_type": "markdown",
      "source": [
        "15. Return the best paramteres and the corresponding score which is the best among the hyperparameters."
      ],
      "metadata": {
        "id": "LU22wgCT_jvX"
      }
    },
    {
      "cell_type": "code",
      "source": [],
      "metadata": {
        "id": "Vlu0gC0SwZG6"
      },
      "execution_count": null,
      "outputs": []
    },
    {
      "cell_type": "markdown",
      "source": [
        "16. Train again the model with the best hyperparamters using the whole training set and check its accuracy in the test."
      ],
      "metadata": {
        "id": "H_vOk5ILBbOV"
      }
    },
    {
      "cell_type": "code",
      "source": [],
      "metadata": {
        "id": "zOcLsOQGwZoI"
      },
      "execution_count": null,
      "outputs": []
    },
    {
      "cell_type": "markdown",
      "source": [
        "17. Build the confusion matrix using **confusion_matrix** from **sklearn.metrics**."
      ],
      "metadata": {
        "id": "4S-CN17WGq26"
      }
    },
    {
      "cell_type": "code",
      "source": [],
      "metadata": {
        "id": "QZSUWcbhwZ_J"
      },
      "execution_count": null,
      "outputs": []
    }
  ]
}