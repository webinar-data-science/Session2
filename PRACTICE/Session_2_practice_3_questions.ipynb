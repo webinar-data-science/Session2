{
  "nbformat": 4,
  "nbformat_minor": 0,
  "metadata": {
    "colab": {
      "provenance": []
    },
    "kernelspec": {
      "name": "python3",
      "display_name": "Python 3"
    },
    "language_info": {
      "name": "python"
    }
  },
  "cells": [
    {
      "cell_type": "markdown",
      "source": [
        "# Practice 3"
      ],
      "metadata": {
        "id": "MzQ5-SXEM9ai"
      }
    },
    {
      "cell_type": "markdown",
      "source": [
        "# Unsupervised learning"
      ],
      "metadata": {
        "id": "Dh2ap8x6M_vK"
      }
    },
    {
      "cell_type": "markdown",
      "source": [
        "In this section you will see how to use two very common algorithm for clustering: K-Means and Hierarchical Clustering."
      ],
      "metadata": {
        "id": "vCECJ-6_Gwr5"
      }
    },
    {
      "cell_type": "markdown",
      "source": [
        "1. Import the libraries."
      ],
      "metadata": {
        "id": "iz669JvQHQ7m"
      }
    },
    {
      "cell_type": "code",
      "execution_count": null,
      "metadata": {
        "id": "3nl5m-sMGeLC"
      },
      "outputs": [],
      "source": [
        "from sklearn.cluster import KMeans, AgglomerativeClustering\n",
        "import matplotlib.pyplot as plt\n",
        "import seaborn as sns\n",
        "from scipy.cluster.hierarchy import dendrogram, linkage\n",
        "import pandas as pd\n",
        "import numpy as np"
      ]
    },
    {
      "cell_type": "markdown",
      "source": [
        "2. Import dataset *Mall_Customer.csv*"
      ],
      "metadata": {
        "id": "t-swbG89OKiK"
      }
    },
    {
      "cell_type": "code",
      "source": [],
      "metadata": {
        "id": "nizKytvBwwFK"
      },
      "execution_count": null,
      "outputs": []
    },
    {
      "cell_type": "markdown",
      "source": [
        "3. Check if there are some missing values and show the information of the dataset."
      ],
      "metadata": {
        "id": "ixwYJuSLOhev"
      }
    },
    {
      "cell_type": "code",
      "source": [],
      "metadata": {
        "id": "I5h1qQWOwwY7"
      },
      "execution_count": null,
      "outputs": []
    },
    {
      "cell_type": "markdown",
      "source": [
        "4. Create a dummy variable for the gender, put it equal to 1 when the customer is a female and equal to 0 otherwise. In addition, delete also the columns *CustomerID* and *Gender*."
      ],
      "metadata": {
        "id": "G0erRvodPBaO"
      }
    },
    {
      "cell_type": "code",
      "source": [],
      "metadata": {
        "id": "5SPBbGU1wwxx"
      },
      "execution_count": null,
      "outputs": []
    },
    {
      "cell_type": "markdown",
      "source": [
        "# K-Means"
      ],
      "metadata": {
        "id": "ufQ1ZQtaMQnn"
      }
    },
    {
      "cell_type": "markdown",
      "source": [
        "5. Use the k-means algorithm, choose the number of cluster as you want. Use the **KMeans** function."
      ],
      "metadata": {
        "id": "YIXXwss2QiMN"
      }
    },
    {
      "cell_type": "code",
      "source": [],
      "metadata": {
        "id": "u5JYq4qjwxVd"
      },
      "execution_count": null,
      "outputs": []
    },
    {
      "cell_type": "markdown",
      "source": [
        "6. Show the result of the clustering method and the number of observations for each cluster. Use the **.labels_**."
      ],
      "metadata": {
        "id": "E9vcLImWUWnL"
      }
    },
    {
      "cell_type": "code",
      "source": [],
      "metadata": {
        "id": "1sddg3Jkwx7U"
      },
      "execution_count": null,
      "outputs": []
    },
    {
      "cell_type": "markdown",
      "source": [
        "7. Show the sum of all the distances using **.inertia_**, then compute the average distance."
      ],
      "metadata": {
        "id": "0Bc_FG5iUyyw"
      }
    },
    {
      "cell_type": "code",
      "source": [],
      "metadata": {
        "id": "jw130DJ8wyVX"
      },
      "execution_count": null,
      "outputs": []
    },
    {
      "cell_type": "markdown",
      "source": [
        "8. Use the elbow method in order to understand the best number of clusters.\n",
        "\n",
        "\n"
      ],
      "metadata": {
        "id": "Ta-PSTK3h3VM"
      }
    },
    {
      "cell_type": "code",
      "source": [],
      "metadata": {
        "id": "RThktyNrwyx6"
      },
      "execution_count": null,
      "outputs": []
    },
    {
      "cell_type": "markdown",
      "source": [
        "9. Watching to the elbow, choose the number of clusters you consider optimal and show the histograms of the varibles by cluster, in order to see the differences between the groups."
      ],
      "metadata": {
        "id": "hPcZnftVeE3q"
      }
    },
    {
      "cell_type": "code",
      "source": [],
      "metadata": {
        "id": "ZJmSLZtDwzMx"
      },
      "execution_count": null,
      "outputs": []
    },
    {
      "cell_type": "markdown",
      "source": [
        "# Hierarchical clustering"
      ],
      "metadata": {
        "id": "mLAUjOItTkRX"
      }
    },
    {
      "cell_type": "markdown",
      "source": [
        "9. Plot the dendogram of the observations using **linkage** and **dendogram** functions."
      ],
      "metadata": {
        "id": "ufKFv4M_g01V"
      }
    },
    {
      "cell_type": "code",
      "source": [],
      "metadata": {
        "id": "-6d8hnbMxB5C"
      },
      "execution_count": null,
      "outputs": []
    },
    {
      "cell_type": "code",
      "source": [],
      "metadata": {
        "id": "_rgyU8ZWwzmn"
      },
      "execution_count": null,
      "outputs": []
    },
    {
      "cell_type": "markdown",
      "source": [
        "10. Use the **AgglomerativeClustering** in order to implement the hierarchcial clustering. Choose the number of clusters as you prefer, basing this choice on the dendogram previously built. "
      ],
      "metadata": {
        "id": "xBkXpa9zOqbM"
      }
    },
    {
      "cell_type": "code",
      "source": [],
      "metadata": {
        "id": "mcdg1YlSw0Q0"
      },
      "execution_count": null,
      "outputs": []
    },
    {
      "cell_type": "markdown",
      "source": [
        "11. Fit the algorithm to the dataset and show the histograms of the variables by cluster, in order to see the differences between the groups."
      ],
      "metadata": {
        "id": "iebRgb8HHZgz"
      }
    },
    {
      "cell_type": "code",
      "source": [],
      "metadata": {
        "id": "iyvd0YWjw0lD"
      },
      "execution_count": null,
      "outputs": []
    },
    {
      "cell_type": "code",
      "source": [],
      "metadata": {
        "id": "B3C9ThA2w9hB"
      },
      "execution_count": null,
      "outputs": []
    },
    {
      "cell_type": "code",
      "source": [],
      "metadata": {
        "id": "1oCzPXbpw-Fb"
      },
      "execution_count": null,
      "outputs": []
    }
  ]
}